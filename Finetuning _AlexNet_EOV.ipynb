{
 "cells": [
  {
   "cell_type": "markdown",
   "id": "74f21e76-5605-4d3f-a7d7-d3a3801da14d",
   "metadata": {},
   "source": [
    "# Finetuning AlexNet #"
   ]
  },
  {
   "cell_type": "markdown",
   "id": "318d6a6c-71a0-47dd-b612-780410442fd2",
   "metadata": {},
   "source": [
    "## Imports ##\n"
   ]
  },
  {
   "cell_type": "code",
   "execution_count": 1,
   "id": "804b3f57-d31b-4852-ab7e-dc285c285c5b",
   "metadata": {},
   "outputs": [
    {
     "name": "stderr",
     "output_type": "stream",
     "text": [
      "/home/zm18440/miniconda3/envs/noise/lib/python3.9/site-packages/tqdm/auto.py:21: TqdmWarning: IProgress not found. Please update jupyter and ipywidgets. See https://ipywidgets.readthedocs.io/en/stable/user_install.html\n",
      "  from .autonotebook import tqdm as notebook_tqdm\n"
     ]
    },
    {
     "data": {
      "text/plain": [
       "<matplotlib.pyplot._IonContext at 0x7f178811d0d0>"
      ]
     },
     "execution_count": 1,
     "metadata": {},
     "output_type": "execute_result"
    }
   ],
   "source": [
    "import torch\n",
    "import torch.nn as nn\n",
    "import torch.optim as optim\n",
    "from torch.optim import lr_scheduler\n",
    "import torch.backends.cudnn as cudnn\n",
    "import numpy as np\n",
    "import torchvision\n",
    "from torchvision import datasets, models, transforms\n",
    "import matplotlib.pyplot as plt\n",
    "import time\n",
    "import os\n",
    "from PIL import Image\n",
    "\n",
    "cudnn.benchmark = True # enable the inbuilt cudnn auto-tuner to find the best algorithm to use, works best when the input size doesn't change\n",
    "plt.ion()   # interactive mode"
   ]
  },
  {
   "cell_type": "code",
   "execution_count": 18,
   "id": "444054b7-9cc4-4e77-b5ec-dd504ad426a4",
   "metadata": {},
   "outputs": [
    {
     "name": "stderr",
     "output_type": "stream",
     "text": [
      "/home/zm18440/miniconda3/envs/noise/lib/python3.9/site-packages/torch/cuda/__init__.py:88: UserWarning: CUDA initialization: CUDA unknown error - this may be due to an incorrectly set up environment, e.g. changing env variable CUDA_VISIBLE_DEVICES after program start. Setting the available devices to be zero. (Triggered internally at /opt/conda/conda-bld/pytorch_1666643016022/work/c10/cuda/CUDAFunctions.cpp:109.)\n",
      "  return torch._C._cuda_getDeviceCount() > 0\n"
     ]
    }
   ],
   "source": [
    "device = torch.device(\"cuda:0\" if torch.cuda.is_available() else \"cpu\")"
   ]
  },
  {
   "cell_type": "code",
   "execution_count": null,
   "id": "6bc6e2a7-40a1-49cb-827f-13256373b934",
   "metadata": {},
   "outputs": [],
   "source": [
    "def evaluate_model(model, criterion):\n",
    "    # Training phase\n",
    "    model.eval()\n",
    "    \n",
    "    total_loss = 0.0\n",
    "    total_correct_preds = 0\n",
    "\n",
    "    with torch.no_grad():  \n",
    "        for inputs, labels in test_dataloader:\n",
    "            inputs = inputs.to(device)\n",
    "            labels = labels.to(device)\n",
    "    \n",
    "            # get output of model\n",
    "            outputs = model(inputs)\n",
    "            # the prediction is the class with the highest probability\n",
    "            _, preds = torch.max(outputs, 1)\n",
    "            # calculate the loss\n",
    "            loss = criterion(outputs, labels)\n",
    "    \n",
    "            # stats\n",
    "            total_loss += loss.item() * inputs.size(0)\n",
    "            total_correct_preds += torch.sum(preds == labels.data)\n",
    "            \n",
    "    test_loss = total_loss / len(test_dataloader.dataset)\n",
    "    test_acc = total_correct_preds.double() / len(test_dataloader.dataset)\n",
    "\n",
    "    print(f'Test Loss: {test_loss:.4f} Accuracy: {test_acc:.4f}')\n",
    "\n",
    "    return test_loss, test_acc\n",
    "\n",
    "\n",
    "def train_model(model, criterion, optimizer, scheduler, epochs=25, save_path='results/', save_name='best_model_params.pt', eval_interval=1):\n",
    "    start_time = time.time()\n",
    "    \n",
    "    if not os.path.isdir(save_path):\n",
    "        os.mkdir(save_path) \n",
    "    model_params_path = os.path.join(save_path, save_name)\n",
    "\n",
    "    torch.save(model.state_dict(), model_params_path)\n",
    "    best_acc = 0.0\n",
    "\n",
    "    for epoch in range(1, epochs + 1):\n",
    "        print(f'Epoch {epoch} / {epochs}')\n",
    "        print('*' * 20)\n",
    "\n",
    "        epoch_start = time.time()\n",
    "        # Training phase\n",
    "        model.train()\n",
    "        \n",
    "        total_loss = 0.0\n",
    "        total_correct_preds = 0\n",
    "\n",
    "        for inputs, labels in train_dataloader:\n",
    "            inputs = inputs.to(device)\n",
    "            labels = labels.to(device)\n",
    "\n",
    "            # zero the parameter gradients\n",
    "            optimizer.zero_grad()\n",
    "\n",
    "            # get output of model\n",
    "            outputs = model(inputs)\n",
    "            # the prediction is the class with the highest probability\n",
    "            _, preds = torch.max(outputs, 1)\n",
    "            # calculate the loss\n",
    "            loss = criterion(outputs, labels)\n",
    "\n",
    "            # backward + optimize the weights\n",
    "            loss.backward()\n",
    "            optimizer.step()\n",
    "\n",
    "            # stats\n",
    "            total_loss += loss.item() * inputs.size(0)\n",
    "            total_correct_preds += torch.sum(preds == labels.data)\n",
    "            \n",
    "            scheduler.step()\n",
    "\n",
    "\n",
    "        # Epoch stats\n",
    "        epoch_loss = total_loss / len(train_dataloader.dataset)\n",
    "        epoch_acc = total_correct_preds.double() / len(train_dataloader.dataset)\n",
    "\n",
    "        print(f'Training Loss: {epoch_loss:.4f} Accuracy: {epoch_acc:.4f}')\n",
    "        \n",
    "\n",
    "        if epoch % eval_interval == 0:\n",
    "            test_loss, test_acc = evaluate_model(model, criterion)\n",
    "\n",
    "            # save the model\n",
    "            if test_acc > best_acc:\n",
    "                best_acc = test_acc\n",
    "                torch.save(model.state_dict(), model_params_path)\n",
    "\n",
    "        print()\n",
    "        time_elapsed = time.time() - epoch_start\n",
    "        print(f'Epoch complete in {time_elapsed // 60:.0f}m {time_elapsed % 60:.0f}s')\n",
    "        print()\n",
    "    \n",
    "    time_elapsed = time.time() - start_time\n",
    "    print(f'Training complete in {time_elapsed // 60:.0f}m {time_elapsed % 60:.0f}s')\n",
    "    print(f'Best evaluation Accuracy: {best_acc:4f}')\n",
    "\n",
    "    # load best model weights\n",
    "    model.load_state_dict(torch.load(best_model_params_path))\n",
    "    return model"
   ]
  },
  {
   "cell_type": "code",
   "execution_count": null,
   "id": "8af955c9-cd21-4d8f-8745-d9b9962b7b4d",
   "metadata": {},
   "outputs": [],
   "source": [
    "models.list_models()"
   ]
  },
  {
   "cell_type": "code",
   "execution_count": 10,
   "id": "2f9bb683-5245-41da-97d0-021d9f866066",
   "metadata": {
    "collapsed": true,
    "jupyter": {
     "outputs_hidden": true
    }
   },
   "outputs": [
    {
     "name": "stdout",
     "output_type": "stream",
     "text": [
      "<bound method Module.children of AlexNet(\n",
      "  (features): Sequential(\n",
      "    (0): Conv2d(3, 64, kernel_size=(11, 11), stride=(4, 4), padding=(2, 2))\n",
      "    (1): ReLU(inplace=True)\n",
      "    (2): MaxPool2d(kernel_size=3, stride=2, padding=0, dilation=1, ceil_mode=False)\n",
      "    (3): Conv2d(64, 192, kernel_size=(5, 5), stride=(1, 1), padding=(2, 2))\n",
      "    (4): ReLU(inplace=True)\n",
      "    (5): MaxPool2d(kernel_size=3, stride=2, padding=0, dilation=1, ceil_mode=False)\n",
      "    (6): Conv2d(192, 384, kernel_size=(3, 3), stride=(1, 1), padding=(1, 1))\n",
      "    (7): ReLU(inplace=True)\n",
      "    (8): Conv2d(384, 256, kernel_size=(3, 3), stride=(1, 1), padding=(1, 1))\n",
      "    (9): ReLU(inplace=True)\n",
      "    (10): Conv2d(256, 256, kernel_size=(3, 3), stride=(1, 1), padding=(1, 1))\n",
      "    (11): ReLU(inplace=True)\n",
      "    (12): MaxPool2d(kernel_size=3, stride=2, padding=0, dilation=1, ceil_mode=False)\n",
      "  )\n",
      "  (avgpool): AdaptiveAvgPool2d(output_size=(6, 6))\n",
      "  (classifier): Sequential(\n",
      "    (0): Dropout(p=0.5, inplace=False)\n",
      "    (1): Linear(in_features=9216, out_features=4096, bias=True)\n",
      "    (2): ReLU(inplace=True)\n",
      "    (3): Dropout(p=0.5, inplace=False)\n",
      "    (4): Linear(in_features=4096, out_features=4096, bias=True)\n",
      "    (5): ReLU(inplace=True)\n",
      "    (6): Linear(in_features=4096, out_features=1000, bias=True)\n",
      "  )\n",
      ")>\n"
     ]
    }
   ],
   "source": [
    "model = models.alexnet(weights='DEFAULT') # equivalent to ``models.alexnet(weights='IMAGENET1K_V1')``\n",
    "print(model.children)"
   ]
  },
  {
   "cell_type": "code",
   "execution_count": 19,
   "id": "64b75413-e441-4a02-a3c2-5538837b33d1",
   "metadata": {},
   "outputs": [
    {
     "name": "stdout",
     "output_type": "stream",
     "text": [
      "Linear(in_features=4096, out_features=2, bias=True)\n",
      "4096\n"
     ]
    }
   ],
   "source": [
    "# We take the last layer in the network, which is the output layer, in this case, is the 6-th layer inside ``classifier``\n",
    "print(model.classifier[6])\n",
    "in_features = model.classifier[6].in_features\n",
    "print(in_features)\n",
    "\n",
    "# We set the output size to 2 since we have 2 classes\n",
    "model.classifier[6] = nn.Linear(in_features, 2)"
   ]
  },
  {
   "cell_type": "code",
   "execution_count": null,
   "id": "7a3543ca-0cbb-49cf-88ed-e0550c6459a9",
   "metadata": {},
   "outputs": [],
   "source": [
    "model = model.to(device)\n",
    "\n",
    "criterion = nn.CrossEntropyLoss()\n",
    "\n",
    "# All parameters are being optimized\n",
    "optimizer = optim.SGD(model.parameters(), lr=0.001, momentum=0.9)\n",
    "\n",
    "# Decay LR by a factor of 0.1 every 7 epochs\n",
    "exp_lr_scheduler = lr_scheduler.StepLR(optimizer, step_size=7, gamma=0.1)"
   ]
  },
  {
   "cell_type": "code",
   "execution_count": null,
   "id": "8f04f339-e2e6-426c-a558-7a65e21423de",
   "metadata": {},
   "outputs": [],
   "source": [
    "model_conv = train_model(model, criterion, optimizer, exp_lr_scheduler, num_epochs=25, \n",
    "                         save_path='results/', save_name='best_model_params.pt', eval_interval=1)"
   ]
  }
 ],
 "metadata": {
  "kernelspec": {
   "display_name": "Python 3 (ipykernel)",
   "language": "python",
   "name": "python3"
  },
  "language_info": {
   "codemirror_mode": {
    "name": "ipython",
    "version": 3
   },
   "file_extension": ".py",
   "mimetype": "text/x-python",
   "name": "python",
   "nbconvert_exporter": "python",
   "pygments_lexer": "ipython3",
   "version": "3.9.13"
  }
 },
 "nbformat": 4,
 "nbformat_minor": 5
}
